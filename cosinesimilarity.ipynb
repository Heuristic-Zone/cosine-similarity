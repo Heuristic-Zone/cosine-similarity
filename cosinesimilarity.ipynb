{
 "cells": [
  {
   "cell_type": "code",
   "execution_count": null,
   "metadata": {},
   "outputs": [],
   "source": []
  },
  {
   "cell_type": "code",
   "execution_count": 1,
   "metadata": {},
   "outputs": [],
   "source": [
    "import math"
   ]
  },
  {
   "cell_type": "code",
   "execution_count": 2,
   "metadata": {},
   "outputs": [],
   "source": [
    "from collections import Counter"
   ]
  },
  {
   "cell_type": "code",
   "execution_count": null,
   "metadata": {},
   "outputs": [],
   "source": []
  },
  {
   "cell_type": "code",
   "execution_count": 23,
   "metadata": {},
   "outputs": [],
   "source": [
    "def buildSentenceVector(sentence1, sentence2):\n",
    "    iteratable1 = sentence1.split()\n",
    "    iteratable2 = sentence2.split()\n",
    "    \n",
    "    counter1 = Counter(iteratable1)\n",
    "    counter2 = Counter(iteratable2)\n",
    "    \n",
    "    allTokens = set(counter1.keys()).union(set(counter2.keys()))\n",
    "    \n",
    "    vector1 = [counter1[k] for k in allTokens]\n",
    "    vector2 = [counter2[k] for k in allTokens]\n",
    "    \n",
    "    return vector1, vector2"
   ]
  },
  {
   "cell_type": "code",
   "execution_count": null,
   "metadata": {},
   "outputs": [],
   "source": []
  },
  {
   "cell_type": "code",
   "execution_count": 24,
   "metadata": {},
   "outputs": [],
   "source": [
    "def cosineSimilarity(v1, v2):\n",
    "    dot_product = sum(n1 * n2 for n1, n2 in zip(v1, v2))\n",
    "    magnitude1 = math.sqrt(sum(n ** 2 for n in v1))\n",
    "    magnitude2 = math.sqrt(sum(n ** 2 for n in v2))\n",
    "    \n",
    "    return dot_product / (magnitude1 * magnitude2)"
   ]
  },
  {
   "cell_type": "code",
   "execution_count": null,
   "metadata": {},
   "outputs": [],
   "source": []
  },
  {
   "cell_type": "code",
   "execution_count": null,
   "metadata": {},
   "outputs": [],
   "source": []
  },
  {
   "cell_type": "code",
   "execution_count": 32,
   "metadata": {},
   "outputs": [],
   "source": [
    "sentence1 = \"Marvel Comics is the brand name and primary imprint of Marvel Worldwide Inc., formerly Marvel Publishing, Inc. and Marvel Comics Group, a publisher of American comic books and related media. In 2009, The Walt Disney Company acquired Marvel Entertainment, Marvel Worldwide's parent company. Marvel started in 1939 as Timely Publications, and by the early 1950s, had generally become known as Atlas Comics. The Marvel branding began in 1961, the year that the company launched The Fantastic Four and other superhero titles created by Steve Ditko, Stan Lee, Jack Kirby and many others. Marvel counts among its characters such well-known superheroes as Spider-Man, Iron Man, Captain America, Thor, the Hulk, Captain Marvel, Black Panther, Deadpool, Doctor Strange, Wolverine, Daredevil, Ghost Rider and the Punisher, such teams as the Avengers, the X-Men, the Fantastic Four, the Inhumans and the Guardians of the Galaxy, and antagonists including Thanos, Doctor Doom, Magneto, Red Skull, Green Goblin, Ultron, Doctor Octopus, Loki, and Venom. Most of Marvel's fictional characters operate in a single reality known as the Marvel Universe, with most locations mirroring real-life places; many major characters are based in New York City.\"\n",
    "sentence2  = \"DC Comics, Inc. is an American comic book publisher. It is the publishing unit of DC Entertainment,[2][3] a subsidiary of Warner Bros. DC Comics is one of the largest and oldest American comic book companies, and produces material featuring numerous culturally iconic heroic characters including: Superman, Batman, Wonder Woman, The Flash, Green Lantern, Nightwing, Green Arrow, and Aquaman. Most of their material takes place in the fictional DC Universe, which also features teams such as the Justice League, the Justice Society of America, the Suicide Squad, and the Teen Titans, and well-known villains such as The Joker, Lex Luthor, Catwoman, Darkseid, Sinestro, Brainiac, Black Adam, Ras al Ghul and Deathstroke. The company has also published non-DC Universe-related material, including Watchmen, V for Vendetta, and many titles under their alternative imprint Vertigo. The initials DC came from the companys popular series Detective Comics, which featured Batman's debut and subsequently became part of the company's name.[4] Originally in Manhattan at 432 Fourth Avenue, the DC Comics offices have been located at 480 and later 575 Lexington Avenue; 909 Third Avenue; 75 Rockefeller Plaza; 666 Fifth Avenue; and 1325 Avenue of the Americas. DC had its headquarters at 1700 Broadway, Midtown Manhattan, New York City, but it was announced in October 2013 that DC Entertainment would relocate its headquarters from New York to Burbank, California in April 2015.[5] Random House distributes DC Comics' books to the bookstore market,[6] while Diamond Comic Distributors supplies the comics shop specialty market.[5][7] DC Comics and its longtime major competitor Marvel Comics (acquired in 2009 by The Walt Disney Company, WarnerMedia's main competitor) together shared approximately 70% of the American comic book market in 2017\"\n",
    "\n"
   ]
  },
  {
   "cell_type": "code",
   "execution_count": 33,
   "metadata": {},
   "outputs": [],
   "source": [
    "vector1, vector2 = buildSentenceVector(sentence1, sentence2)"
   ]
  },
  {
   "cell_type": "code",
   "execution_count": 34,
   "metadata": {},
   "outputs": [],
   "source": [
    "similarity = cosineSimilarity(vector1, vector2)"
   ]
  },
  {
   "cell_type": "code",
   "execution_count": 35,
   "metadata": {},
   "outputs": [
    {
     "name": "stdout",
     "output_type": "stream",
     "text": [
      "0.6161872754482196\n"
     ]
    }
   ],
   "source": [
    "print(similarity)"
   ]
  },
  {
   "cell_type": "code",
   "execution_count": 36,
   "metadata": {},
   "outputs": [],
   "source": [
    "angle_in_radian = math.acos(similarity)"
   ]
  },
  {
   "cell_type": "code",
   "execution_count": 37,
   "metadata": {},
   "outputs": [],
   "source": [
    "degree = math.degrees(angle_in_radian)"
   ]
  },
  {
   "cell_type": "code",
   "execution_count": 38,
   "metadata": {},
   "outputs": [
    {
     "name": "stdout",
     "output_type": "stream",
     "text": [
      "51.96175942186768\n"
     ]
    }
   ],
   "source": [
    "print(degree)"
   ]
  },
  {
   "cell_type": "code",
   "execution_count": null,
   "metadata": {},
   "outputs": [],
   "source": [
    "similarity : 0.26490647141300877\n",
    "degree : 74.63860461026913"
   ]
  }
 ],
 "metadata": {
  "kernelspec": {
   "display_name": "Python 3",
   "language": "python",
   "name": "python3"
  },
  "language_info": {
   "codemirror_mode": {
    "name": "ipython",
    "version": 3
   },
   "file_extension": ".py",
   "mimetype": "text/x-python",
   "name": "python",
   "nbconvert_exporter": "python",
   "pygments_lexer": "ipython3",
   "version": "3.6.0"
  }
 },
 "nbformat": 4,
 "nbformat_minor": 2
}
